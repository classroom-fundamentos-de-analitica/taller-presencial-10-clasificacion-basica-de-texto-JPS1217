{
 "cells": [
  {
   "cell_type": "markdown",
   "source": [
    "#\n",
    "# Clasificacion basica detexto\n",
    "#"
   ],
   "metadata": {
    "collapsed": false
   },
   "id": "7329daba1a14274f"
  },
  {
   "cell_type": "markdown",
   "source": [
    "#\n",
    "# Carga del dataset\n",
    "#"
   ],
   "metadata": {
    "collapsed": false
   },
   "id": "586dfcdb09fe4c8e"
  },
  {
   "cell_type": "code",
   "execution_count": null,
   "id": "initial_id",
   "metadata": {
    "collapsed": true,
    "is_executing": true
   },
   "outputs": [],
   "source": [
    "import pandas as pd\n",
    "\n",
    "dataframe = pd.read_csv(\n",
    "    \"sentences.csv.zip\",\n",
    "    index_col=False,\n",
    "    compression=\"zip\",\n",
    ")"
   ]
  },
  {
   "cell_type": "markdown",
   "source": [
    "#\n",
    "# Exploración de los datos\n",
    "#"
   ],
   "metadata": {
    "collapsed": false
   },
   "id": "93f924179be73"
  },
  {
   "cell_type": "code",
   "outputs": [],
   "source": [
    "dataframe.shap"
   ],
   "metadata": {
    "collapsed": false,
    "is_executing": true
   },
   "id": "33aa82adf68c4682"
  },
  {
   "cell_type": "markdown",
   "source": [
    "#\n",
    "# Data\n",
    "#"
   ],
   "metadata": {
    "collapsed": false
   },
   "id": "d66058288863f378"
  },
  {
   "cell_type": "code",
   "outputs": [],
   "source": [
    "dataframe.head()"
   ],
   "metadata": {
    "collapsed": false,
    "is_executing": true
   },
   "id": "6cc15c3ba2131ff1"
  },
  {
   "cell_type": "markdown",
   "source": [
    "#\n",
    "# Sentimientos (clases)\n",
    "#"
   ],
   "metadata": {
    "collapsed": false
   },
   "id": "48cb9495fc9c730f"
  },
  {
   "cell_type": "code",
   "outputs": [],
   "source": [
    "dataframe.target.value_counts()"
   ],
   "metadata": {
    "collapsed": false,
    "is_executing": true
   },
   "id": "b8834013a1681fc7"
  },
  {
   "cell_type": "markdown",
   "source": [
    "#\n",
    "# Ejemplos de frases positivas\n",
    "#"
   ],
   "metadata": {
    "collapsed": false
   },
   "id": "9821d67f8ffbd37"
  },
  {
   "cell_type": "code",
   "outputs": [],
   "source": [
    "for i in range(5):\n",
    "    print(dataframe[dataframe.target == \"positive\"][\"phrase\"].iloc[i])"
   ],
   "metadata": {
    "collapsed": false
   },
   "id": "abed7def09ea4752"
  },
  {
   "cell_type": "markdown",
   "source": [
    "#\n",
    "# Ejemplos de frases neutras\n",
    "#"
   ],
   "metadata": {
    "collapsed": false
   },
   "id": "26c0da949be377ed"
  },
  {
   "cell_type": "code",
   "outputs": [],
   "source": [
    "for i in range(5):\n",
    "    print(dataframe[dataframe.target == \"neutral\"][\"phrase\"].iloc[i])"
   ],
   "metadata": {
    "collapsed": false
   },
   "id": "2d9961cb61c320d9"
  },
  {
   "cell_type": "markdown",
   "source": [
    "#\n",
    "# Particionamiento de datos\n",
    "#"
   ],
   "metadata": {
    "collapsed": false
   },
   "id": "f2e9e174f7869d35"
  },
  {
   "cell_type": "code",
   "outputs": [],
   "source": [
    "from sklearn.model_selection import train_test_split\n",
    "\n",
    "X_train, X_test, y_train, y_test = train_test_split(\n",
    "    dataframe.phrase,\n",
    "    dataframe.target,\n",
    "    test_size=0.3,\n",
    "    shuffle=False,\n",
    ")"
   ],
   "metadata": {
    "collapsed": false
   },
   "id": "bc648677a9153837"
  },
  {
   "cell_type": "markdown",
   "source": [
    "#\n",
    "# Preprocesamiento de texto\n",
    "#"
   ],
   "metadata": {
    "collapsed": false
   },
   "id": "2d73b0c54ff53ef8"
  },
  {
   "cell_type": "code",
   "outputs": [],
   "source": [
    "from sklearn.feature_extraction.text import CountVectorizer\n",
    "\n",
    "vectorizer = CountVectorizer(\n",
    "    lowercase=True,\n",
    "    analyzer=\"word\",\n",
    "    token_pattern=r\"\\b[a-zA-Z]\\w+\\b\",\n",
    "    stop_words=\"english\",\n",
    "    max_df=0.99,\n",
    "    min_df=2,\n",
    "    binary=True,\n",
    ")\n",
    "# stop words es azucar sintactico\n",
    "# max df toma la frecuencia, palabras que aparezcan 99% las descarto, decimal es porcentaje, y palabras que aparecen dos veces o menos tampoco sirven\n",
    "vectorizer.fit(X_train)\n",
    "# el fit hace conteo de palabras y construye el vector de palabras que van en las columnsa"
   ],
   "metadata": {
    "collapsed": false
   },
   "id": "8e790e799d7bd0db"
  },
  {
   "cell_type": "markdown",
   "source": [
    "#\n",
    "#Columnas de la matriz documento-termino\n",
    "#"
   ],
   "metadata": {
    "collapsed": false
   },
   "id": "26856df9830af5a8"
  },
  {
   "cell_type": "code",
   "outputs": [],
   "source": [
    "vectorizer.get_feature_names_out()"
   ],
   "metadata": {
    "collapsed": false
   },
   "id": "2842c2e9149bd6b7"
  },
  {
   "cell_type": "markdown",
   "source": [
    "#\n",
    "# Especificación del modelo\n",
    "#"
   ],
   "metadata": {
    "collapsed": false
   },
   "id": "c65e9109c3bcaba4"
  },
  {
   "cell_type": "code",
   "outputs": [],
   "source": [
    "from sklearn.linear_model import LogisticRegression\n",
    "\n",
    "clf = LogisticRegression(max_iter=1000)\n",
    "clf"
   ],
   "metadata": {
    "collapsed": false
   },
   "id": "b13dae91ea7b9138"
  },
  {
   "cell_type": "markdown",
   "source": [
    "#\n",
    "# Entrenamiento del modelo\n",
    "#"
   ],
   "metadata": {
    "collapsed": false
   },
   "id": "41eb554f53373280"
  },
  {
   "cell_type": "code",
   "outputs": [],
   "source": [
    "X_train_vectorized = vectorizer.transform(X_train)\n",
    "\n",
    "clf.fit(\n",
    "    X_train_vectorized,\n",
    "    y_train,\n",
    ")"
   ],
   "metadata": {
    "collapsed": false
   },
   "id": "be0a9953c63fbf5f"
  },
  {
   "cell_type": "markdown",
   "source": [
    "#\n",
    "# Evaluación de la precisión del modelo\n",
    "#"
   ],
   "metadata": {
    "collapsed": false
   },
   "id": "1606ecb49c510130"
  },
  {
   "cell_type": "code",
   "outputs": [],
   "source": [
    "from sklearn.metrics import accuracy_score"
   ],
   "metadata": {
    "collapsed": false
   },
   "id": "9cde196908908f80"
  },
  {
   "cell_type": "markdown",
   "source": [
    "#\n",
    "# Muestra de entrenamiento\n",
    "#"
   ],
   "metadata": {
    "collapsed": false
   },
   "id": "f27185b8c849f48"
  },
  {
   "cell_type": "code",
   "outputs": [],
   "source": [
    "accuracy_score(\n",
    "    y_true=y_train,\n",
    "    y_pred=clf.predict(X_train_vectorized),\n",
    ")"
   ],
   "metadata": {
    "collapsed": false
   },
   "id": "ae8358badf15c3dd"
  },
  {
   "cell_type": "markdown",
   "source": [
    "#\n",
    "# Muestra de prueba\n",
    "#"
   ],
   "metadata": {
    "collapsed": false
   },
   "id": "eb6e0e7d50971c3b"
  },
  {
   "cell_type": "code",
   "outputs": [],
   "source": [
    "X_test_vectorized = vectorizer.transform(X_test)\n",
    "predictions = clf.predict(X_test_vectorized)\n",
    "\n",
    "accuracy_score(\n",
    "    y_true=y_test,\n",
    "    y_pred=predictions,\n",
    ")"
   ],
   "metadata": {
    "collapsed": false
   },
   "id": "d74cff41d4c5faf2"
  },
  {
   "cell_type": "markdown",
   "source": [
    "#\n",
    "# Almacenamiento del modelo\n",
    "#"
   ],
   "metadata": {
    "collapsed": false
   },
   "id": "23c079c61174ad76"
  },
  {
   "cell_type": "code",
   "outputs": [],
   "source": [
    "import pickle\n",
    "\n",
    "with open(\"clf.pickle\", \"wb\") as file:\n",
    "    pickle.dump(clf, file)\n",
    "\n",
    "with open(\"vectorizer.pickle\", \"wb\") as file:\n",
    "    pickle.dump(vectorizer, file)"
   ],
   "metadata": {
    "collapsed": false
   },
   "id": "7bfc8015367782a"
  },
  {
   "cell_type": "markdown",
   "source": [
    "#\n",
    "# Matriz de confusión\n",
    "#"
   ],
   "metadata": {
    "collapsed": false
   },
   "id": "dbd6bd5ca4b58ec0"
  },
  {
   "cell_type": "code",
   "outputs": [],
   "source": [
    "from sklearn.metrics import ConfusionMatrixDisplay\n",
    "\n",
    "disp = ConfusionMatrixDisplay.from_predictions(\n",
    "    y_test,\n",
    "    predictions,\n",
    "    cmap=\"Greens\",\n",
    ")\n",
    "disp.figure_.suptitle(\"Confusion Matrix\")\n",
    "print(f\"Confusion matrix:\\n{disp.confusion_matrix}\")"
   ],
   "metadata": {
    "collapsed": false
   },
   "id": "fd79d411e2d1138e"
  },
  {
   "cell_type": "markdown",
   "source": [
    "#\n",
    "# Uso del modelo\n",
    "#"
   ],
   "metadata": {
    "collapsed": false
   },
   "id": "836d9f627503bc97"
  },
  {
   "cell_type": "code",
   "outputs": [],
   "source": [
    "with open(\"clf.pickle\", \"rb\") as file:\n",
    "    new_clf = pickle.load(file)\n",
    "\n",
    "with open(\"vectorizer.pickle\", \"rb\") as file:\n",
    "    new_vectorizer = pickle.load(file)\n",
    "\n",
    "accuracy_score(\n",
    "    y_true=dataframe.target,\n",
    "    y_pred=new_clf.predict(new_vectorizer.transform(dataframe.phrase)),\n",
    ")"
   ],
   "metadata": {
    "collapsed": false
   },
   "id": "f40b88b9b8f75ca5"
  }
 ],
 "metadata": {
  "kernelspec": {
   "display_name": "Python 3",
   "language": "python",
   "name": "python3"
  },
  "language_info": {
   "codemirror_mode": {
    "name": "ipython",
    "version": 2
   },
   "file_extension": ".py",
   "mimetype": "text/x-python",
   "name": "python",
   "nbconvert_exporter": "python",
   "pygments_lexer": "ipython2",
   "version": "2.7.6"
  }
 },
 "nbformat": 4,
 "nbformat_minor": 5
}
